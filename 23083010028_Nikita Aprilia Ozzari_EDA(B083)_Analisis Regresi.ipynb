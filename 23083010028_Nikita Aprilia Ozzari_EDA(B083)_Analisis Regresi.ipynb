{
 "cells": [
  {
   "cell_type": "markdown",
   "id": "58fa3c83-3aff-4eae-8aba-ee04ec92aed5",
   "metadata": {},
   "source": [
    "## Analisis Regresi Orange Quality Data"
   ]
  },
  {
   "cell_type": "markdown",
   "id": "66e5fcf6-c9d0-4d2a-be29-55daca71648d",
   "metadata": {},
   "source": [
    "Nama Kelompok: Cheesecake"
   ]
  },
  {
   "cell_type": "markdown",
   "id": "18dd7089-1a52-425f-b1e6-38426c5e4cf1",
   "metadata": {},
   "source": [
    "Nama Anggota: \n",
    "1. Nikita Aprilia Ozzari (23083010028)\n",
    "2. Indira Zein Rizqin (23083010015)"
   ]
  },
  {
   "cell_type": "markdown",
   "id": "1baffd6b-2b74-4e9e-a16a-93edc85438de",
   "metadata": {},
   "source": [
    "## Regresi Linear Berganda"
   ]
  },
  {
   "cell_type": "code",
   "execution_count": 107,
   "id": "4ec5f57b-99c8-47f8-895e-7ad1b374a9c1",
   "metadata": {
    "tags": []
   },
   "outputs": [
    {
     "data": {
      "text/html": [
       "<div>\n",
       "<style scoped>\n",
       "    .dataframe tbody tr th:only-of-type {\n",
       "        vertical-align: middle;\n",
       "    }\n",
       "\n",
       "    .dataframe tbody tr th {\n",
       "        vertical-align: top;\n",
       "    }\n",
       "\n",
       "    .dataframe thead th {\n",
       "        text-align: right;\n",
       "    }\n",
       "</style>\n",
       "<table border=\"1\" class=\"dataframe\">\n",
       "  <thead>\n",
       "    <tr style=\"text-align: right;\">\n",
       "      <th></th>\n",
       "      <th>Size (cm)</th>\n",
       "      <th>Weight (g)</th>\n",
       "      <th>Brix (Sweetness)</th>\n",
       "      <th>pH (Acidity)</th>\n",
       "      <th>Softness (1-5)</th>\n",
       "      <th>HarvestTime (days)</th>\n",
       "      <th>Ripeness (1-5)</th>\n",
       "      <th>Color</th>\n",
       "      <th>Variety</th>\n",
       "      <th>Blemishes (Y/N)</th>\n",
       "      <th>Quality (1-5)</th>\n",
       "    </tr>\n",
       "  </thead>\n",
       "  <tbody>\n",
       "    <tr>\n",
       "      <th>0</th>\n",
       "      <td>7.5</td>\n",
       "      <td>180</td>\n",
       "      <td>12.0</td>\n",
       "      <td>3.2</td>\n",
       "      <td>2.0</td>\n",
       "      <td>10</td>\n",
       "      <td>4.0</td>\n",
       "      <td>Orange</td>\n",
       "      <td>Valencia</td>\n",
       "      <td>N</td>\n",
       "      <td>4.0</td>\n",
       "    </tr>\n",
       "    <tr>\n",
       "      <th>1</th>\n",
       "      <td>8.2</td>\n",
       "      <td>220</td>\n",
       "      <td>10.5</td>\n",
       "      <td>3.4</td>\n",
       "      <td>3.0</td>\n",
       "      <td>14</td>\n",
       "      <td>4.5</td>\n",
       "      <td>Deep Orange</td>\n",
       "      <td>Navel</td>\n",
       "      <td>N</td>\n",
       "      <td>4.5</td>\n",
       "    </tr>\n",
       "    <tr>\n",
       "      <th>2</th>\n",
       "      <td>6.8</td>\n",
       "      <td>150</td>\n",
       "      <td>14.0</td>\n",
       "      <td>3.0</td>\n",
       "      <td>1.0</td>\n",
       "      <td>7</td>\n",
       "      <td>5.0</td>\n",
       "      <td>Light Orange</td>\n",
       "      <td>Cara Cara</td>\n",
       "      <td>N</td>\n",
       "      <td>5.0</td>\n",
       "    </tr>\n",
       "    <tr>\n",
       "      <th>3</th>\n",
       "      <td>9.0</td>\n",
       "      <td>250</td>\n",
       "      <td>8.5</td>\n",
       "      <td>3.8</td>\n",
       "      <td>4.0</td>\n",
       "      <td>21</td>\n",
       "      <td>3.5</td>\n",
       "      <td>Orange-Red</td>\n",
       "      <td>Blood Orange</td>\n",
       "      <td>N</td>\n",
       "      <td>3.5</td>\n",
       "    </tr>\n",
       "    <tr>\n",
       "      <th>4</th>\n",
       "      <td>8.5</td>\n",
       "      <td>210</td>\n",
       "      <td>11.5</td>\n",
       "      <td>3.3</td>\n",
       "      <td>2.5</td>\n",
       "      <td>12</td>\n",
       "      <td>5.0</td>\n",
       "      <td>Orange</td>\n",
       "      <td>Hamlin</td>\n",
       "      <td>Y (Minor)</td>\n",
       "      <td>4.5</td>\n",
       "    </tr>\n",
       "  </tbody>\n",
       "</table>\n",
       "</div>"
      ],
      "text/plain": [
       "   Size (cm)  Weight (g)  Brix (Sweetness)  pH (Acidity)  Softness (1-5)  \\\n",
       "0        7.5         180              12.0           3.2             2.0   \n",
       "1        8.2         220              10.5           3.4             3.0   \n",
       "2        6.8         150              14.0           3.0             1.0   \n",
       "3        9.0         250               8.5           3.8             4.0   \n",
       "4        8.5         210              11.5           3.3             2.5   \n",
       "\n",
       "   HarvestTime (days)  Ripeness (1-5)         Color       Variety  \\\n",
       "0                  10             4.0        Orange      Valencia   \n",
       "1                  14             4.5   Deep Orange         Navel   \n",
       "2                   7             5.0  Light Orange     Cara Cara   \n",
       "3                  21             3.5    Orange-Red  Blood Orange   \n",
       "4                  12             5.0        Orange        Hamlin   \n",
       "\n",
       "  Blemishes (Y/N)  Quality (1-5)  \n",
       "0               N            4.0  \n",
       "1               N            4.5  \n",
       "2               N            5.0  \n",
       "3               N            3.5  \n",
       "4       Y (Minor)            4.5  "
      ]
     },
     "execution_count": 107,
     "metadata": {},
     "output_type": "execute_result"
    }
   ],
   "source": [
    "import pandas as pd\n",
    "import statsmodels.api as sm\n",
    "import seaborn as sns\n",
    "import numpy as np\n",
    "import matplotlib.pyplot as plt\n",
    "from sklearn.model_selection import train_test_split\n",
    "from sklearn.linear_model import LinearRegression\n",
    "from sklearn.metrics import mean_squared_error, r2_score\n",
    "from scipy.stats import t \n",
    "\n",
    "data = pd.read_csv(\"C://Users//Nikita Ozzari//Documents//Orange Quality Data.csv\")\n",
    "data.head()"
   ]
  },
  {
   "cell_type": "code",
   "execution_count": 108,
   "id": "00e9e1f5-0b4f-4315-8282-66c819148621",
   "metadata": {
    "tags": []
   },
   "outputs": [],
   "source": [
    "X = data[[\"Size (cm)\",\"Weight (g)\", \"HarvestTime (days)\", \"Ripeness (1-5)\", \"Softness (1-5)\", \"Brix (Sweetness)\", \"pH (Acidity)\"]]\n",
    "y = data[\"Quality (1-5)\"]"
   ]
  },
  {
   "cell_type": "code",
   "execution_count": 109,
   "id": "06c89d5c-68ff-4a69-b5ba-73b309c57957",
   "metadata": {
    "tags": []
   },
   "outputs": [],
   "source": [
    "X = np.column_stack((np.ones(X.shape[0]), X)) "
   ]
  },
  {
   "cell_type": "code",
   "execution_count": 110,
   "id": "a23ccaa0-b5d7-47f5-833b-4eb3a6af2a29",
   "metadata": {
    "tags": []
   },
   "outputs": [
    {
     "data": {
      "text/html": [
       "<style>#sk-container-id-8 {color: black;}#sk-container-id-8 pre{padding: 0;}#sk-container-id-8 div.sk-toggleable {background-color: white;}#sk-container-id-8 label.sk-toggleable__label {cursor: pointer;display: block;width: 100%;margin-bottom: 0;padding: 0.3em;box-sizing: border-box;text-align: center;}#sk-container-id-8 label.sk-toggleable__label-arrow:before {content: \"▸\";float: left;margin-right: 0.25em;color: #696969;}#sk-container-id-8 label.sk-toggleable__label-arrow:hover:before {color: black;}#sk-container-id-8 div.sk-estimator:hover label.sk-toggleable__label-arrow:before {color: black;}#sk-container-id-8 div.sk-toggleable__content {max-height: 0;max-width: 0;overflow: hidden;text-align: left;background-color: #f0f8ff;}#sk-container-id-8 div.sk-toggleable__content pre {margin: 0.2em;color: black;border-radius: 0.25em;background-color: #f0f8ff;}#sk-container-id-8 input.sk-toggleable__control:checked~div.sk-toggleable__content {max-height: 200px;max-width: 100%;overflow: auto;}#sk-container-id-8 input.sk-toggleable__control:checked~label.sk-toggleable__label-arrow:before {content: \"▾\";}#sk-container-id-8 div.sk-estimator input.sk-toggleable__control:checked~label.sk-toggleable__label {background-color: #d4ebff;}#sk-container-id-8 div.sk-label input.sk-toggleable__control:checked~label.sk-toggleable__label {background-color: #d4ebff;}#sk-container-id-8 input.sk-hidden--visually {border: 0;clip: rect(1px 1px 1px 1px);clip: rect(1px, 1px, 1px, 1px);height: 1px;margin: -1px;overflow: hidden;padding: 0;position: absolute;width: 1px;}#sk-container-id-8 div.sk-estimator {font-family: monospace;background-color: #f0f8ff;border: 1px dotted black;border-radius: 0.25em;box-sizing: border-box;margin-bottom: 0.5em;}#sk-container-id-8 div.sk-estimator:hover {background-color: #d4ebff;}#sk-container-id-8 div.sk-parallel-item::after {content: \"\";width: 100%;border-bottom: 1px solid gray;flex-grow: 1;}#sk-container-id-8 div.sk-label:hover label.sk-toggleable__label {background-color: #d4ebff;}#sk-container-id-8 div.sk-serial::before {content: \"\";position: absolute;border-left: 1px solid gray;box-sizing: border-box;top: 0;bottom: 0;left: 50%;z-index: 0;}#sk-container-id-8 div.sk-serial {display: flex;flex-direction: column;align-items: center;background-color: white;padding-right: 0.2em;padding-left: 0.2em;position: relative;}#sk-container-id-8 div.sk-item {position: relative;z-index: 1;}#sk-container-id-8 div.sk-parallel {display: flex;align-items: stretch;justify-content: center;background-color: white;position: relative;}#sk-container-id-8 div.sk-item::before, #sk-container-id-8 div.sk-parallel-item::before {content: \"\";position: absolute;border-left: 1px solid gray;box-sizing: border-box;top: 0;bottom: 0;left: 50%;z-index: -1;}#sk-container-id-8 div.sk-parallel-item {display: flex;flex-direction: column;z-index: 1;position: relative;background-color: white;}#sk-container-id-8 div.sk-parallel-item:first-child::after {align-self: flex-end;width: 50%;}#sk-container-id-8 div.sk-parallel-item:last-child::after {align-self: flex-start;width: 50%;}#sk-container-id-8 div.sk-parallel-item:only-child::after {width: 0;}#sk-container-id-8 div.sk-dashed-wrapped {border: 1px dashed gray;margin: 0 0.4em 0.5em 0.4em;box-sizing: border-box;padding-bottom: 0.4em;background-color: white;}#sk-container-id-8 div.sk-label label {font-family: monospace;font-weight: bold;display: inline-block;line-height: 1.2em;}#sk-container-id-8 div.sk-label-container {text-align: center;}#sk-container-id-8 div.sk-container {/* jupyter's `normalize.less` sets `[hidden] { display: none; }` but bootstrap.min.css set `[hidden] { display: none !important; }` so we also need the `!important` here to be able to override the default hidden behavior on the sphinx rendered scikit-learn.org. See: https://github.com/scikit-learn/scikit-learn/issues/21755 */display: inline-block !important;position: relative;}#sk-container-id-8 div.sk-text-repr-fallback {display: none;}</style><div id=\"sk-container-id-8\" class=\"sk-top-container\"><div class=\"sk-text-repr-fallback\"><pre>LinearRegression(fit_intercept=False)</pre><b>In a Jupyter environment, please rerun this cell to show the HTML representation or trust the notebook. <br />On GitHub, the HTML representation is unable to render, please try loading this page with nbviewer.org.</b></div><div class=\"sk-container\" hidden><div class=\"sk-item\"><div class=\"sk-estimator sk-toggleable\"><input class=\"sk-toggleable__control sk-hidden--visually\" id=\"sk-estimator-id-8\" type=\"checkbox\" checked><label for=\"sk-estimator-id-8\" class=\"sk-toggleable__label sk-toggleable__label-arrow\">LinearRegression</label><div class=\"sk-toggleable__content\"><pre>LinearRegression(fit_intercept=False)</pre></div></div></div></div></div>"
      ],
      "text/plain": [
       "LinearRegression(fit_intercept=False)"
      ]
     },
     "execution_count": 110,
     "metadata": {},
     "output_type": "execute_result"
    }
   ],
   "source": [
    "model = LinearRegression(fit_intercept=False)  # Intercept sudah ditambahkan manual\n",
    "model.fit(X, y)"
   ]
  },
  {
   "cell_type": "code",
   "execution_count": 111,
   "id": "3d60232f-83b2-4b96-b71c-d8a0c9b71e27",
   "metadata": {
    "tags": []
   },
   "outputs": [],
   "source": [
    "coef = model.coef_"
   ]
  },
  {
   "cell_type": "code",
   "execution_count": 112,
   "id": "bc0b72f3-2fd6-4317-9367-c9e023336d94",
   "metadata": {
    "tags": []
   },
   "outputs": [],
   "source": [
    "y_pred = model.predict(X)"
   ]
  },
  {
   "cell_type": "code",
   "execution_count": 113,
   "id": "add6511e-819c-4dfd-a830-c31567b96b7c",
   "metadata": {
    "tags": []
   },
   "outputs": [
    {
     "name": "stdout",
     "output_type": "stream",
     "text": [
      "             Variable  Coefficient  Standard Error  T-Statistic   P-Value\n",
      "0           Intercept     2.509288        0.658732     3.809267  0.000179\n",
      "1           Size (cm)     0.066393        0.048727     1.362541  0.174349\n",
      "2          Weight (g)    -0.001553        0.000947    -1.640387  0.102280\n",
      "3  HarvestTime (days)    -0.047242        0.010200    -4.631311  0.000006\n",
      "4      Ripeness (1-5)     0.101909        0.041703     2.443710  0.015284\n",
      "5      Softness (1-5)     0.015742        0.040605     0.387692  0.698600\n",
      "6    Brix (Sweetness)     0.189857        0.019117     9.931182  0.000000\n",
      "7        pH (Acidity)    -0.188652        0.126863    -1.487056  0.138358\n"
     ]
    }
   ],
   "source": [
    "# Uji Signifikansi Koefisien Regresi\n",
    "\n",
    "n = X.shape[0]  \n",
    "p = X.shape[1] + 1 \n",
    "df = n - p \n",
    "\n",
    "residuals = y - y_pred\n",
    "residual_std_error = np.sqrt(np.sum(residuals**2) / (n - p))\n",
    "\n",
    "# Matriks kovarian\n",
    "X_inv = np.linalg.inv(X.T @ X)  # Inverse dari matriks X'X\n",
    "se = np.sqrt(np.diagonal(X_inv)) * residual_std_error  # Standard error untuk setiap koefisien\n",
    "\n",
    "# Hitung statistik t dan p-value\n",
    "t_values = coef / se  # Statistik T\n",
    "p_values = [2 * (1 - t.cdf(np.abs(t_val), df=n - p)) for t_val in t_values]  # P-value\n",
    "\n",
    "# Tampilkan hasil\n",
    "result = pd.DataFrame({\n",
    "    \"Variable\": [\"Intercept\"] + list(data[[\"Size (cm)\",\"Weight (g)\", \"HarvestTime (days)\", \"Ripeness (1-5)\", \"Softness (1-5)\", \"Brix (Sweetness)\", \"pH (Acidity)\"]].columns),  # Nama variabel\n",
    "    \"Coefficient\": coef,\n",
    "    \"Standard Error\": se,\n",
    "    \"T-Statistic\": t_values,\n",
    "    \"P-Value\": p_values\n",
    "})\n",
    "\n",
    "print(result)"
   ]
  },
  {
   "cell_type": "code",
   "execution_count": 114,
   "id": "6ea28938-2b22-4e8a-87a0-5edc8178363f",
   "metadata": {
    "tags": []
   },
   "outputs": [
    {
     "data": {
      "image/png": "[encoded data removed]",
      "text/plain": [
       "<Figure size 800x600 with 1 Axes>"
      ]
     },
     "metadata": {},
     "output_type": "display_data"
    }
   ],
   "source": [
    "plt.figure(figsize=(8, 6))\n",
    "plt.scatter(y, y_pred, color='blue', alpha=0.6, label=\"Prediksi vs Aktual\")\n",
    "plt.plot([y.min(), y.max()], [y.min(), y.max()], color='red', linestyle='--', label=\"Garis Ideal\")\n",
    "plt.xlabel(\"Nilai Aktual (Quality)\")\n",
    "plt.ylabel(\"Nilai Prediksi (Quality)\")\n",
    "plt.title(\"Perbandingan Nilai Aktual dan Prediksi\")\n",
    "plt.legend()\n",
    "plt.grid(True)\n",
    "plt.show()"
   ]
  },
  {
   "cell_type": "code",
   "execution_count": 115,
   "id": "56d8d7e7-ba95-443a-956b-f98df8cf358c",
   "metadata": {
    "tags": []
   },
   "outputs": [
    {
     "name": "stdout",
     "output_type": "stream",
     "text": [
      "Hasil Uji Multikolinearitas (VIF):\n",
      "             Variable         VIF\n",
      "0               const  199.730271\n",
      "1           Size (cm)    1.283591\n",
      "2          Weight (g)    1.309905\n",
      "3  HarvestTime (days)    1.351798\n",
      "4      Ripeness (1-5)    1.157913\n",
      "5      Softness (1-5)    1.324099\n",
      "6    Brix (Sweetness)    1.276529\n",
      "7        pH (Acidity)    1.307577\n"
     ]
    }
   ],
   "source": [
    "from statsmodels.stats.outliers_influence import variance_inflation_factor\n",
    "\n",
    "# Pilih variabel independen\n",
    "X = data[[\"Size (cm)\",\"Weight (g)\", \"HarvestTime (days)\", \"Ripeness (1-5)\", \"Softness (1-5)\", \"Brix (Sweetness)\", \"pH (Acidity)\"]]\n",
    "\n",
    "# Tambahkan konstanta untuk perhitungan VIF\n",
    "X_with_const = sm.add_constant(X)\n",
    "\n",
    "# Hitung VIF untuk setiap variabel independen\n",
    "vif_data = pd.DataFrame()\n",
    "vif_data[\"Variable\"] = X_with_const.columns\n",
    "vif_data[\"VIF\"] = [variance_inflation_factor(X_with_const.values, i) for i in range(X_with_const.shape[1])]\n",
    "\n",
    "print(\"Hasil Uji Multikolinearitas (VIF):\")\n",
    "print(vif_data)"
   ]
  },
  {
   "cell_type": "code",
   "execution_count": 116,
   "id": "e24afb83-e64b-4cb5-b6df-900cea8459f3",
   "metadata": {
    "tags": []
   },
   "outputs": [
    {
     "name": "stdout",
     "output_type": "stream",
     "text": [
      "\n",
      "Hasil Uji Signifikansi:\n",
      "             Variable  Coefficient  Standard Error  T-Statistic   P-Value  \\\n",
      "0           Intercept     2.509288        0.658732     3.809267  0.000179   \n",
      "1           Size (cm)     0.066393        0.048727     1.362541  0.174349   \n",
      "2          Weight (g)    -0.001553        0.000947    -1.640387  0.102280   \n",
      "3  HarvestTime (days)    -0.047242        0.010200    -4.631311  0.000006   \n",
      "4      Ripeness (1-5)     0.101909        0.041703     2.443710  0.015284   \n",
      "5      Softness (1-5)     0.015742        0.040605     0.387692  0.698600   \n",
      "6    Brix (Sweetness)     0.189857        0.019117     9.931182  0.000000   \n",
      "7        pH (Acidity)    -0.188652        0.126863    -1.487056  0.138358   \n",
      "\n",
      "   Significant  \n",
      "0         True  \n",
      "1        False  \n",
      "2        False  \n",
      "3         True  \n",
      "4         True  \n",
      "5        False  \n",
      "6         True  \n",
      "7        False  \n",
      "\n",
      "Interpretasi Signifikansi:\n",
      "Koefisien 'Intercept' signifikan secara statistik (p-value = 0.00018).\n",
      "Koefisien 'Size (cm)' tidak signifikan secara statistik (p-value = 0.17435).\n",
      "Koefisien 'Weight (g)' tidak signifikan secara statistik (p-value = 0.10228).\n",
      "Koefisien 'HarvestTime (days)' signifikan secara statistik (p-value = 0.00001).\n",
      "Koefisien 'Ripeness (1-5)' signifikan secara statistik (p-value = 0.01528).\n",
      "Koefisien 'Softness (1-5)' tidak signifikan secara statistik (p-value = 0.69860).\n",
      "Koefisien 'Brix (Sweetness)' signifikan secara statistik (p-value = 0.00000).\n",
      "Koefisien 'pH (Acidity)' tidak signifikan secara statistik (p-value = 0.13836).\n"
     ]
    }
   ],
   "source": [
    "# Menambahkan kolom signifikansi\n",
    "alpha = 0.05  # Tingkat signifikansi 5%\n",
    "result[\"Significant\"] = result[\"P-Value\"] < alpha\n",
    "\n",
    "# Menampilkan hasil dengan informasi tambahan\n",
    "print(\"\\nHasil Uji Signifikansi:\")\n",
    "print(result)\n",
    "\n",
    "# Interpretasi otomatis\n",
    "print(\"\\nInterpretasi Signifikansi:\")\n",
    "for index, row in result.iterrows():\n",
    "    if row[\"Significant\"]:\n",
    "        print(f\"Koefisien '{row['Variable']}' signifikan secara statistik (p-value = {row['P-Value']:.5f}).\")\n",
    "    else:\n",
    "        print(f\"Koefisien '{row['Variable']}' tidak signifikan secara statistik (p-value = {row['P-Value']:.5f}).\")"
   ]
  },
  {
   "cell_type": "code",
   "execution_count": 117,
   "id": "4fde6887-e6d4-4c9d-8219-7d15c5fd8da1",
   "metadata": {
    "tags": []
   },
   "outputs": [
    {
     "name": "stdout",
     "output_type": "stream",
     "text": [
      "Mean Squared Error (MSE): 0.5040\n",
      "Root Mean Squared Error (RMSE): 0.7100\n"
     ]
    }
   ],
   "source": [
    "from sklearn.metrics import mean_squared_error\n",
    "import numpy as np\n",
    "\n",
    "# Hitung MSE\n",
    "mse = mean_squared_error(y, y_pred)\n",
    "\n",
    "# Hitung RMSE\n",
    "rmse = np.sqrt(mse)\n",
    "\n",
    "print(f\"Mean Squared Error (MSE): {mse:.4f}\")\n",
    "print(f\"Root Mean Squared Error (RMSE): {rmse:.4f}\")"
   ]
  },
  {
   "cell_type": "code",
   "execution_count": 118,
   "id": "e528e30e-fe5b-4460-9fde-dec2373ed197",
   "metadata": {
    "tags": []
   },
   "outputs": [
    {
     "name": "stdout",
     "output_type": "stream",
     "text": [
      "Intercept:\n",
      " - Nilai Intercept: 0.0000\n",
      " - Nilai t-Statistik: 0.0000\n",
      " - Nilai P-Value: 1.0000\n",
      "Keputusan: Intercept tidak signifikan pada tingkat signifikansi 5%.\n",
      "Keputusan Hipotesis untuk Koefisien:\n",
      "Koefisien 1:\n",
      " - Nilai Koefisien: 2.5093\n",
      " - Nilai t-Statistik: 3.8093\n",
      " - Nilai P-Value: 0.0002\n",
      "   -> Keputusan: Tolak H0 (koefisien signifikan)\n",
      "Koefisien 2:\n",
      " - Nilai Koefisien: 0.0664\n",
      " - Nilai t-Statistik: 1.3625\n",
      " - Nilai P-Value: 0.1743\n",
      "   -> Keputusan: Gagal Tolak H0 (koefisien tidak signifikan)\n",
      "Koefisien 3:\n",
      " - Nilai Koefisien: -0.0016\n",
      " - Nilai t-Statistik: -1.6404\n",
      " - Nilai P-Value: 0.1023\n",
      "   -> Keputusan: Gagal Tolak H0 (koefisien tidak signifikan)\n",
      "Koefisien 4:\n",
      " - Nilai Koefisien: -0.0472\n",
      " - Nilai t-Statistik: -4.6313\n",
      " - Nilai P-Value: 0.0000\n",
      "   -> Keputusan: Tolak H0 (koefisien signifikan)\n",
      "Koefisien 5:\n",
      " - Nilai Koefisien: 0.1019\n",
      " - Nilai t-Statistik: 2.4437\n",
      " - Nilai P-Value: 0.0153\n",
      "   -> Keputusan: Tolak H0 (koefisien signifikan)\n",
      "Koefisien 6:\n",
      " - Nilai Koefisien: 0.0157\n",
      " - Nilai t-Statistik: 0.3877\n",
      " - Nilai P-Value: 0.6986\n",
      "   -> Keputusan: Gagal Tolak H0 (koefisien tidak signifikan)\n",
      "Koefisien 7:\n",
      " - Nilai Koefisien: 0.1899\n",
      " - Nilai t-Statistik: 9.9312\n",
      " - Nilai P-Value: 0.0000\n",
      "   -> Keputusan: Tolak H0 (koefisien signifikan)\n",
      "Koefisien 8:\n",
      " - Nilai Koefisien: -0.1887\n",
      " - Nilai t-Statistik: -1.4871\n",
      " - Nilai P-Value: 0.1384\n",
      "   -> Keputusan: Gagal Tolak H0 (koefisien tidak signifikan)\n",
      "\n",
      "Keputusan Hipotesis untuk Intercept:\n",
      "Intercept:\n",
      " - Nilai Intercept: 0.0000\n",
      " - Nilai t-Statistik: 0.0000\n",
      " - Nilai P-Value: 1.0000\n",
      "   -> Keputusan: Gagal Tolak H0 (intercept tidak signifikan)\n"
     ]
    }
   ],
   "source": [
    "#Uji Hipotesis dan Keputusan\n",
    "\n",
    "# Hitung standard error untuk intercept\n",
    "se_intercept = np.sqrt(X_inv[0, 0]) * residual_std_error\n",
    "\n",
    "# Hitung t-statistik dan p-value untuk intercept\n",
    "intercept_t_value = model.intercept_ / se_intercept\n",
    "intercept_p_value = 2 * (1 - t.cdf(np.abs(intercept_t_value), df))\n",
    "\n",
    "# Hasil\n",
    "print(f\"Intercept:\")\n",
    "print(f\" - Nilai Intercept: {model.intercept_:.4f}\")\n",
    "print(f\" - Nilai t-Statistik: {intercept_t_value:.4f}\")\n",
    "print(f\" - Nilai P-Value: {intercept_p_value:.4f}\")\n",
    "\n",
    "# Keputusan hipotesis\n",
    "alpha = 0.05\n",
    "if intercept_p_value < alpha:\n",
    "    print(\"Keputusan: Intercept signifikan pada tingkat signifikansi 5%.\")\n",
    "else:\n",
    "    print(\"Keputusan: Intercept tidak signifikan pada tingkat signifikansi 5%.\")\n",
    "\n",
    "# Keputusan hipotesis\n",
    "alpha = 0.05  \n",
    "print(\"Keputusan Hipotesis untuk Koefisien:\")\n",
    "for i, (coef_val, t_val, p_val) in enumerate(zip(model.coef_, t_values, p_values)):\n",
    "    print(f\"Koefisien {i + 1}:\")\n",
    "    print(f\" - Nilai Koefisien: {coef_val:.4f}\")\n",
    "    print(f\" - Nilai t-Statistik: {t_val:.4f}\")\n",
    "    print(f\" - Nilai P-Value: {p_val:.4f}\")\n",
    "    if p_val < alpha:\n",
    "        print(\"   -> Keputusan: Tolak H0 (koefisien signifikan)\")\n",
    "    else:\n",
    "        print(\"   -> Keputusan: Gagal Tolak H0 (koefisien tidak signifikan)\")\n",
    "\n",
    "# Keputusan untuk intercept\n",
    "print(\"\\nKeputusan Hipotesis untuk Intercept:\")\n",
    "print(f\"Intercept:\")\n",
    "print(f\" - Nilai Intercept: {model.intercept_:.4f}\")\n",
    "print(f\" - Nilai t-Statistik: {intercept_t_value:.4f}\")\n",
    "print(f\" - Nilai P-Value: {intercept_p_value:.4f}\")\n",
    "if intercept_p_value < alpha:\n",
    "    print(\"   -> Keputusan: Tolak H0 (intercept signifikan)\")\n",
    "else:\n",
    "    print(\"   -> Keputusan: Gagal Tolak H0 (intercept tidak signifikan)\")"
   ]
  },
  {
   "cell_type": "code",
   "execution_count": 119,
   "id": "7ec68ad0-571d-48a5-9502-4a18cb2aa9aa",
   "metadata": {
    "tags": []
   },
   "outputs": [
    {
     "name": "stdout",
     "output_type": "stream",
     "text": [
      "                                 OLS Regression Results                                \n",
      "=======================================================================================\n",
      "Dep. Variable:          Quality (1-5)   R-squared (uncentered):                   0.966\n",
      "Model:                            OLS   Adj. R-squared (uncentered):              0.965\n",
      "Method:                 Least Squares   F-statistic:                              940.1\n",
      "Date:                Sun, 24 Nov 2024   Prob (F-statistic):                   2.04e-167\n",
      "Time:                        18:06:54   Log-Likelihood:                         -266.72\n",
      "No. Observations:                 241   AIC:                                      547.4\n",
      "Df Residuals:                     234   BIC:                                      571.8\n",
      "Df Model:                           7                                                  \n",
      "Covariance Type:            nonrobust                                                  \n",
      "======================================================================================\n",
      "                         coef    std err          t      P>|t|      [0.025      0.975]\n",
      "--------------------------------------------------------------------------------------\n",
      "Size (cm)              0.1540      0.044      3.491      0.001       0.067       0.241\n",
      "Weight (g)            -0.0012      0.001     -1.241      0.216      -0.003       0.001\n",
      "HarvestTime (days)    -0.0418      0.010     -4.036      0.000      -0.062      -0.021\n",
      "Ripeness (1-5)         0.1730      0.038      4.518      0.000       0.098       0.248\n",
      "Softness (1-5)         0.0222      0.042      0.534      0.594      -0.060       0.104\n",
      "Brix (Sweetness)       0.2323      0.016     14.563      0.000       0.201       0.264\n",
      "pH (Acidity)           0.0751      0.109      0.688      0.492      -0.140       0.290\n",
      "==============================================================================\n",
      "Omnibus:                       13.925   Durbin-Watson:                   1.707\n",
      "Prob(Omnibus):                  0.001   Jarque-Bera (JB):               14.684\n",
      "Skew:                          -0.558   Prob(JB):                     0.000648\n",
      "Kurtosis:                       3.464   Cond. No.                         506.\n",
      "==============================================================================\n",
      "\n",
      "Notes:\n",
      "[1] R² is computed without centering (uncentered) since the model does not contain a constant.\n",
      "[2] Standard Errors assume that the covariance matrix of the errors is correctly specified.\n"
     ]
    }
   ],
   "source": [
    "# Membuat model regresi linier dengan OLS (Ordinary Least Squares)\n",
    "model = sm.OLS(y, X).fit()\n",
    "\n",
    "# Menampilkan ringkasan hasil model\n",
    "print(model.summary())"
   ]
  },
  {
   "cell_type": "markdown",
   "id": "30a73ee2-3ba4-4281-b7ab-3fdf82d22874",
   "metadata": {},
   "source": [
    "## Regresi Lasso"
   ]
  },
  {
   "cell_type": "code",
   "execution_count": 77,
   "id": "ada75450-d165-418c-9f76-96e6f734a40e",
   "metadata": {
    "tags": []
   },
   "outputs": [
    {
     "data": {
      "image/png": "[encoded data removed]",
      "text/plain": [
       "<Figure size 800x600 with 1 Axes>"
      ]
     },
     "metadata": {},
     "output_type": "display_data"
    }
   ],
   "source": [
    "from sklearn.linear_model import Lasso\n",
    "\n",
    "# Data simulasi\n",
    "X = np.random.rand(100, 1) * 10\n",
    "y = 3 * X[:, 0] + np.random.normal(0, 3, 100)\n",
    "\n",
    "lasso = Lasso(alpha=0.1)\n",
    "lasso.fit(X, y)\n",
    "\n",
    "# Plot\n",
    "plt.figure(figsize=(8, 6))\n",
    "plt.scatter(X, y, label=\"Data\", alpha=0.7)\n",
    "plt.plot(np.sort(X[:, 0]), lasso.predict(np.sort(X, axis=0)), color=\"magenta\", label=\"Regresi Lasso\")\n",
    "plt.title(\"Regresi Lasso\")\n",
    "plt.xlabel(\"X\")\n",
    "plt.ylabel(\"Y\")\n",
    "plt.legend()\n",
    "plt.grid(True)\n",
    "plt.show()"
   ]
  },
  {
   "cell_type": "markdown",
   "id": "a55d98cc-c5db-4c6a-af40-03c9ab98aee7",
   "metadata": {},
   "source": [
    "## Regresi Dummy"
   ]
  },
  {
   "cell_type": "code",
   "execution_count": 120,
   "id": "ea065fbb-bbda-4a69-a516-77bf4f0c6651",
   "metadata": {
    "tags": []
   },
   "outputs": [
    {
     "name": "stdout",
     "output_type": "stream",
     "text": [
      "                          Hasil Analisis Regresi\n",
      "Source of Variation    Sum of Squares    Degrees of Freedom    Mean Square      F0        P Value\n",
      "Regression            113.360             38                   2.983         4.05      1.55e-15\n",
      "Error                 148.673             202                  0.736\n",
      "Total                 262.033             240\n",
      "\n",
      "Coefficient    Estimate    Standard Error    t0     P Value    t-table\n",
      "Beta_0          4.571      0.300           15.23  0.000e+00  1.97 \n",
      "Beta_1          -1.464     0.169           -8.66  1.554e-15  1.97 \n",
      "Beta_2          -0.863     0.200           -4.31  2.542e-05  1.97 \n",
      "Beta_3          -0.589     0.180           -3.27  1.248e-03  1.97 \n",
      "Beta_4          -0.767     0.377           -2.03  4.333e-02  1.97 \n",
      "Beta_5          -0.982     0.674           -1.46  1.468e-01  1.97 \n",
      "Beta_6          0.350      0.437           0.80   4.236e-01  1.97 \n",
      "Beta_7          -0.468     0.344           -1.36  1.757e-01  1.97 \n",
      "Beta_8          -0.172     0.368           -0.47  6.414e-01  1.97 \n",
      "Beta_9          1.892      0.533           3.55   4.801e-04  1.97 \n",
      "Beta_10         0.061      0.490           0.12   9.014e-01  1.97 \n",
      "Beta_11         0.929      0.454           2.05   4.199e-02  1.97 \n",
      "Beta_12         0.611      0.396           1.54   1.245e-01  1.97 \n",
      "Beta_13         -0.376     0.549           -0.68  4.950e-01  1.97 \n",
      "Beta_14         -0.055     0.407           -0.13  8.929e-01  1.97 \n",
      "Beta_15         -0.308     0.359           -0.86  3.924e-01  1.97 \n",
      "Beta_16         0.583      0.577           1.01   3.131e-01  1.97 \n",
      "Beta_17         -0.533     0.356           -1.50  1.357e-01  1.97 \n",
      "Beta_18         0.292      0.684           0.43   6.701e-01  1.97 \n",
      "Beta_19         -0.571     0.579           -0.99  3.250e-01  1.97 \n",
      "Beta_20         0.248      0.379           0.65   5.147e-01  1.97 \n",
      "Beta_21         0.421      0.377           1.12   2.649e-01  1.97 \n",
      "Beta_22         -0.218     0.345           -0.63  5.276e-01  1.97 \n",
      "Beta_23         0.196      0.972           0.20   8.406e-01  1.97 \n",
      "Beta_24         0.733      0.374           1.96   5.115e-02  1.97 \n",
      "Beta_25         -0.319     0.352           -0.90  3.668e-01  1.97 \n",
      "Beta_26         -0.128     0.385           -0.33  7.395e-01  1.97 \n",
      "Beta_27         -0.112     0.370           -0.30  7.619e-01  1.97 \n",
      "Beta_28         -2.037     0.934           -2.18  3.037e-02  1.97 \n",
      "Beta_29         -0.674     0.895           -0.75  4.521e-01  1.97 \n",
      "Beta_30         -0.708     0.914           -0.77  4.395e-01  1.97 \n",
      "Beta_31         -0.784     0.322           -2.44  1.565e-02  1.97 \n",
      "Beta_32         0.102      0.377           0.27   7.870e-01  1.97 \n",
      "Beta_33         -0.708     0.255           -2.78  5.927e-03  1.97 \n",
      "Beta_34         -0.852     0.298           -2.85  4.776e-03  1.97 \n",
      "Beta_35         -0.442     0.271           -1.63  1.038e-01  1.97 \n",
      "Beta_36         -0.545     0.330           -1.65  1.002e-01  1.97 \n",
      "Beta_37         -0.299     0.202           -1.48  1.403e-01  1.97 \n",
      "Beta_38         -0.684     0.641           -1.07  2.879e-01  1.97 \n",
      "\n",
      "R^2 = 0.4326\n",
      "\n",
      "Persamaan regresi:\n",
      "Quality = 4.571  + -1.464 * Color_Light Orange + -0.863 * Color_Orange + -0.589 * Color_Orange-Red + -0.767 * Color_Yellow-Orange + -0.982 * Variety_Blood Orange + 0.350 * Variety_California Valencia + -0.468 * Variety_Cara Cara + -0.172 * Variety_Clementine + 1.892 * Variety_Clementine (Seedless) + 0.061 * Variety_Hamlin + 0.929 * Variety_Honey Tangerine + 0.611 * Variety_Jaffa + -0.376 * Variety_Midsweet (Hybrid) + -0.055 * Variety_Minneola (Hybrid) + -0.308 * Variety_Moro (Blood) + 0.583 * Variety_Murcott (Hybrid) + -0.533 * Variety_Navel + 0.292 * Variety_Navel (Early Season) + -0.571 * Variety_Navel (Late Season) + 0.248 * Variety_Ortanique (Hybrid) + 0.421 * Variety_Satsuma Mandarin + -0.218 * Variety_Star Ruby + 0.196 * Variety_Tangelo (Hybrid) + 0.733 * Variety_Tangerine + -0.319 * Variety_Temple + -0.128 * Variety_Valencia + -0.112 * Variety_Washington Navel + -2.037 * Blemishes (Y/N)_N (Minor) + -0.674 * Blemishes (Y/N)_N (Split Skin) + -0.708 * Blemishes (Y/N)_Y (Bruise) + -0.784 * Blemishes (Y/N)_Y (Bruising) + 0.102 * Blemishes (Y/N)_Y (Minor Insect Damage) + -0.708 * Blemishes (Y/N)_Y (Minor) + -0.852 * Blemishes (Y/N)_Y (Mold Spot) + -0.442 * Blemishes (Y/N)_Y (Scars) + -0.545 * Blemishes (Y/N)_Y (Split Skin) + -0.299 * Blemishes (Y/N)_Y (Sunburn Patch) + -0.684 * Blemishes (Y/N)_Y (Sunburn)\n"
     ]
    }
   ],
   "source": [
    "import numpy as np\n",
    "import pandas as pd\n",
    "import scipy.stats as stats\n",
    "from statsmodels.stats.outliers_influence import variance_inflation_factor\n",
    "from statsmodels.tools.tools import add_constant\n",
    "\n",
    "# 1. Muat Data\n",
    "data = pd.read_csv(\"C://Users//Nikita Ozzari//Documents//Orange Quality Data.csv\")\n",
    "\n",
    "# 2. Encode variabel kategorikal\n",
    "data_encoded = pd.get_dummies(data, columns=['Color', 'Variety', 'Blemishes (Y/N)'], drop_first=True).astype(int)\n",
    "\n",
    "# 3. Menghapus kolom yang tidak diinginkan\n",
    "data_encoded = data_encoded.drop(['Size (cm)', 'Weight (g)', 'pH (Acidity)', 'Softness (1-5)', 'HarvestTime (days)', \n",
    "                                  'Ripeness (1-5)', 'Brix (Sweetness)'], axis=1)\n",
    "\n",
    "# 4. Tentukan variabel dependen dan variabel independen\n",
    "categorical_columns = [col for col in data_encoded.columns if col != 'Quality (1-5)']\n",
    "y = data_encoded['Quality (1-5)'].values  # Dependent variable\n",
    "X = data_encoded[categorical_columns].values  # Independent variables\n",
    "\n",
    "# 5. Pastikan semua kolom X adalah tipe numerik dan dalam bentuk 2D\n",
    "X = np.array(X).astype(np.float64)  # Mengkonversi menjadi array 2D dan pastikan tipe datanya numerik\n",
    "\n",
    "# 6. Tambahkan kolom intercept\n",
    "X = add_constant(X)  # Menambahkan intercept secara otomatis\n",
    "\n",
    "# 7. Hitung koefisien regresi (β) \n",
    "XtX = X.T @ X\n",
    "XtX_inv = np.linalg.inv(XtX)\n",
    "XtY = X.T @ y\n",
    "beta = XtX_inv @ XtY\n",
    "\n",
    "# 8. Prediksi nilai dan hitung residuals\n",
    "y_hat = X @ beta\n",
    "residuals = y - y_hat\n",
    "\n",
    "# 9. Hitung Sum of Squares\n",
    "SSR = np.sum((y_hat - np.mean(y))**2)  # Sum of Squares Regression\n",
    "SSE = np.sum((y - y_hat)**2)  # Sum of Squares Error\n",
    "SST = SSR + SSE  # Sum of Squares Total\n",
    "\n",
    "# 10. Degrees of freedom\n",
    "n = len(y)\n",
    "p = X.shape[1] - 1  # Excluding intercept\n",
    "df_regression = p\n",
    "df_error = n - p - 1\n",
    "\n",
    "# 11. Mean Squares\n",
    "MSR = SSR / df_regression\n",
    "MSE = SSE / df_error\n",
    "\n",
    "# 12. Standard Errors for coefficients\n",
    "standard_errors = np.sqrt(np.diag(MSE * XtX_inv))\n",
    "\n",
    "# 13. t-values and p-values\n",
    "t_values = beta / standard_errors\n",
    "p_values = [2 * (1 - stats.t.cdf(np.abs(t_val), df_error)) for t_val in t_values]\n",
    "\n",
    "# 14. t-table value (for hypothesis testing)\n",
    "alpha = 0.05\n",
    "t_table_value = stats.t.ppf(1 - alpha / 2, df_error)\n",
    "\n",
    "# 15. Output regression results\n",
    "print(\"                          Hasil Analisis Regresi\")\n",
    "print(\"Source of Variation    Sum of Squares    Degrees of Freedom    Mean Square      F0        P Value\")\n",
    "print(f\"Regression            {SSR:.3f}             {df_regression}                   {MSR:.3f}         {MSR/MSE:.2f}      {p_values[1]:.2e}\")\n",
    "print(f\"Error                 {SSE:.3f}             {df_error}                  {MSE:.3f}\")\n",
    "print(f\"Total                 {SST:.3f}             {n - 1}\\n\")\n",
    "\n",
    "print(\"Coefficient    Estimate    Standard Error    t0     P Value    t-table\")\n",
    "for i, (b, se, t_val, p_val) in enumerate(zip(beta, standard_errors, t_values, p_values)):\n",
    "    print(f\"Beta_{i:<2}         {b:<10.3f} {se:<15.3f} {t_val:<6.2f} {p_val:<10.3e} {t_table_value:<5.2f}\")\n",
    "\n",
    "# 16. R-squared\n",
    "R_squared = SSR / SST\n",
    "print(f\"\\nR^2 = {R_squared:.4f}\")\n",
    "\n",
    "# 17. Persamaan regresi\n",
    "regression_equation = f\"Quality = {beta[0]:.3f} \"  # Memulai persamaan dengan intercept\n",
    "\n",
    "# Menambahkan koefisien untuk setiap fitur kategorikal\n",
    "for i in range(1, len(beta)):\n",
    "    regression_equation += f\" + {beta[i]:.3f} * {categorical_columns[i-1]}\"  # Menambahkan variabel dan koefisien terkait\n",
    "\n",
    "# Menampilkan persamaan regresi\n",
    "print(\"\\nPersamaan regresi:\")\n",
    "print(regression_equation)"
   ]
  },
  {
   "cell_type": "code",
   "execution_count": 121,
   "id": "da2e0e1d-dabb-4c41-be49-5f2b97e29e18",
   "metadata": {
    "tags": []
   },
   "outputs": [
    {
     "data": {
      "image/png": "[encoded data removed]",
      "text/plain": [
       "<Figure size 1000x600 with 1 Axes>"
      ]
     },
     "metadata": {},
     "output_type": "display_data"
    }
   ],
   "source": [
    "plt.figure(figsize=(10, 6))\n",
    "plt.scatter(y, y_hat, color='blue', alpha=0.05)\n",
    "plt.plot([min(y), max(y)], [min(y), max(y)], color='red', linestyle='--')  # Garis identitas\n",
    "plt.xlabel(\"Nilai Aktual (Quality)\")\n",
    "plt.ylabel(\"Nilai Prediksi (Quality)\")\n",
    "plt.title(\"Perbandingan Nilai Aktual dan Prediksi\")\n",
    "plt.grid(True)\n",
    "plt.show()"
   ]
  },
  {
   "cell_type": "code",
   "execution_count": 122,
   "id": "eb3c439a-5344-46a9-8391-ca773ab9c3bb",
   "metadata": {
    "tags": []
   },
   "outputs": [
    {
     "name": "stdout",
     "output_type": "stream",
     "text": [
      "\n",
      "Hasil VIF:\n",
      "                                   Variable        VIF\n",
      "0                        Color_Light Orange  29.505190\n",
      "1                              Color_Orange   1.826112\n",
      "2                          Color_Orange-Red   1.744065\n",
      "3                       Color_Yellow-Orange   1.868590\n",
      "4                      Variety_Blood Orange   1.676239\n",
      "5               Variety_California Valencia   1.225427\n",
      "6                         Variety_Cara Cara   1.763610\n",
      "7                        Variety_Clementine   3.088097\n",
      "8             Variety_Clementine (Seedless)   2.423353\n",
      "9                            Variety_Hamlin   1.518681\n",
      "10                  Variety_Honey Tangerine   1.594816\n",
      "11                            Variety_Jaffa   1.901251\n",
      "12                Variety_Midsweet (Hybrid)   2.237311\n",
      "13                Variety_Minneola (Hybrid)   2.006760\n",
      "14                     Variety_Moro (Blood)   2.562787\n",
      "15                 Variety_Murcott (Hybrid)   2.618468\n",
      "16                            Variety_Navel   1.338167\n",
      "17             Variety_Navel (Early Season)   2.568663\n",
      "18              Variety_Navel (Late Season)   1.260696\n",
      "19               Variety_Ortanique (Hybrid)   1.350264\n",
      "20                 Variety_Satsuma Mandarin   2.403367\n",
      "21                        Variety_Star Ruby   2.371030\n",
      "22                 Variety_Tangelo (Hybrid)   2.696486\n",
      "23                        Variety_Tangerine   1.279207\n",
      "24                           Variety_Temple   2.501331\n",
      "25                         Variety_Valencia   2.808089\n",
      "26                 Variety_Washington Navel   2.113767\n",
      "27                Blemishes (Y/N)_N (Minor)   2.455955\n",
      "28           Blemishes (Y/N)_N (Split Skin)   1.180274\n",
      "29               Blemishes (Y/N)_Y (Bruise)   1.083734\n",
      "30             Blemishes (Y/N)_Y (Bruising)   1.130911\n",
      "31  Blemishes (Y/N)_Y (Minor Insect Damage)   1.217016\n",
      "32                Blemishes (Y/N)_Y (Minor)   1.130172\n",
      "33            Blemishes (Y/N)_Y (Mold Spot)   1.161027\n",
      "34                Blemishes (Y/N)_Y (Scars)   1.160299\n",
      "35           Blemishes (Y/N)_Y (Split Skin)   1.572793\n",
      "36        Blemishes (Y/N)_Y (Sunburn Patch)   1.146267\n",
      "37              Blemishes (Y/N)_Y (Sunburn)   1.152916\n",
      "38                                Intercept   1.108965\n",
      "\n",
      "RMSE = 0.7854\n",
      "MSE = 0.7360\n"
     ]
    }
   ],
   "source": [
    "# 18. Cek multikolinearitas menggunakan VIF\n",
    "# Menghitung VIF untuk setiap variabel\n",
    "vif_data = pd.DataFrame()\n",
    "vif_data[\"Variable\"] = categorical_columns + [\"Intercept\"]\n",
    "vif_data[\"VIF\"] = [variance_inflation_factor(X, i) for i in range(X.shape[1])]\n",
    "\n",
    "# Tampilkan hasil VIF\n",
    "print(\"\\nHasil VIF:\")\n",
    "print(vif_data)\n",
    "\n",
    "# 19. Menghitung RMSE (Root Mean Squared Error)\n",
    "rmse = np.sqrt(np.mean(residuals**2))\n",
    "print(f\"\\nRMSE = {rmse:.4f}\")\n",
    "\n",
    "# 20. Menghitung MSE\n",
    "print(f\"MSE = {MSE:.4f}\")"
   ]
  },
  {
   "cell_type": "code",
   "execution_count": 123,
   "id": "6e7f9d47-38b4-4e05-8832-de5a43978408",
   "metadata": {
    "tags": []
   },
   "outputs": [
    {
     "name": "stdout",
     "output_type": "stream",
     "text": [
      "\n",
      "Hasil Uji Hipotesis t:\n",
      "                                    Feature      Coef   Std Err    t-value  \\\n",
      "0                                 Intercept  4.571453  0.300180  15.229053   \n",
      "1                        Color_Light Orange -1.463547  0.169097  -8.655066   \n",
      "2                              Color_Orange -0.863260  0.200258  -4.310730   \n",
      "3                          Color_Orange-Red -0.589312  0.179998  -3.273984   \n",
      "4                       Color_Yellow-Orange -0.767285  0.377357  -2.033317   \n",
      "5                      Variety_Blood Orange -0.982142  0.674340  -1.456448   \n",
      "6               Variety_California Valencia  0.350410  0.437012   0.801830   \n",
      "7                         Variety_Cara Cara -0.467938  0.344329  -1.358986   \n",
      "8                        Variety_Clementine -0.171551  0.367774  -0.466457   \n",
      "9             Variety_Clementine (Seedless)  1.892094  0.533063   3.549476   \n",
      "10                           Variety_Hamlin  0.060755  0.489625   0.124085   \n",
      "11                  Variety_Honey Tangerine  0.928640  0.453745   2.046611   \n",
      "12                            Variety_Jaffa  0.610926  0.396052   1.542541   \n",
      "13                Variety_Midsweet (Hybrid) -0.375502  0.549232  -0.683686   \n",
      "14                Variety_Minneola (Hybrid) -0.054825  0.406722  -0.134798   \n",
      "15                     Variety_Moro (Blood) -0.307889  0.359188  -0.857180   \n",
      "16                 Variety_Murcott (Hybrid)  0.583062  0.576574   1.011253   \n",
      "17                            Variety_Navel -0.532859  0.355755  -1.497824   \n",
      "18             Variety_Navel (Early Season)  0.291807  0.683975   0.426633   \n",
      "19              Variety_Navel (Late Season) -0.571453  0.579175  -0.986668   \n",
      "20               Variety_Ortanique (Hybrid)  0.247541  0.379245   0.652719   \n",
      "21                 Variety_Satsuma Mandarin  0.421117  0.376685   1.117955   \n",
      "22                        Variety_Star Ruby -0.218448  0.345191  -0.632833   \n",
      "23                 Variety_Tangelo (Hybrid)  0.195832  0.972331   0.201405   \n",
      "24                        Variety_Tangerine  0.733058  0.373644   1.961916   \n",
      "25                           Variety_Temple -0.318638  0.352262  -0.904547   \n",
      "26                         Variety_Valencia -0.128166  0.384962  -0.332931   \n",
      "27                 Variety_Washington Navel -0.112343  0.370239  -0.303434   \n",
      "28                Blemishes (Y/N)_N (Minor) -2.036546  0.933974  -2.180516   \n",
      "29           Blemishes (Y/N)_N (Split Skin) -0.674253  0.894963  -0.753387   \n",
      "30               Blemishes (Y/N)_Y (Bruise) -0.708193  0.914235  -0.774630   \n",
      "31             Blemishes (Y/N)_Y (Bruising) -0.783794  0.321538  -2.437643   \n",
      "32  Blemishes (Y/N)_Y (Minor Insect Damage)  0.102008  0.377061   0.270533   \n",
      "33                Blemishes (Y/N)_Y (Minor) -0.708003  0.254562  -2.781261   \n",
      "34            Blemishes (Y/N)_Y (Mold Spot) -0.851715  0.298489  -2.853424   \n",
      "35                Blemishes (Y/N)_Y (Scars) -0.442270  0.270668  -1.633997   \n",
      "36           Blemishes (Y/N)_Y (Split Skin) -0.545447  0.330270  -1.651518   \n",
      "37        Blemishes (Y/N)_Y (Sunburn Patch) -0.299008  0.201956  -1.480562   \n",
      "38              Blemishes (Y/N)_Y (Sunburn) -0.683540  0.641496  -1.065540   \n",
      "\n",
      "         p-value                          Keputusan  \n",
      "0   0.000000e+00              Tolak H₀ (Signifikan)  \n",
      "1   1.554312e-15              Tolak H₀ (Signifikan)  \n",
      "2   2.541655e-05              Tolak H₀ (Signifikan)  \n",
      "3   1.247564e-03              Tolak H₀ (Signifikan)  \n",
      "4   4.332862e-02              Tolak H₀ (Signifikan)  \n",
      "5   1.468213e-01  Gagal Tolak H₀ (Tidak Signifikan)  \n",
      "6   4.235935e-01  Gagal Tolak H₀ (Tidak Signifikan)  \n",
      "7   1.756664e-01  Gagal Tolak H₀ (Tidak Signifikan)  \n",
      "8   6.413912e-01  Gagal Tolak H₀ (Tidak Signifikan)  \n",
      "9   4.800946e-04              Tolak H₀ (Signifikan)  \n",
      "10  9.013710e-01  Gagal Tolak H₀ (Tidak Signifikan)  \n",
      "11  4.199142e-02              Tolak H₀ (Signifikan)  \n",
      "12  1.245074e-01  Gagal Tolak H₀ (Tidak Signifikan)  \n",
      "13  4.949570e-01  Gagal Tolak H₀ (Tidak Signifikan)  \n",
      "14  8.929057e-01  Gagal Tolak H₀ (Tidak Signifikan)  \n",
      "15  3.923613e-01  Gagal Tolak H₀ (Tidak Signifikan)  \n",
      "16  3.131052e-01  Gagal Tolak H₀ (Tidak Signifikan)  \n",
      "17  1.357401e-01  Gagal Tolak H₀ (Tidak Signifikan)  \n",
      "18  6.701007e-01  Gagal Tolak H₀ (Tidak Signifikan)  \n",
      "19  3.249856e-01  Gagal Tolak H₀ (Tidak Signifikan)  \n",
      "20  5.146796e-01  Gagal Tolak H₀ (Tidak Signifikan)  \n",
      "21  2.649140e-01  Gagal Tolak H₀ (Tidak Signifikan)  \n",
      "22  5.275587e-01  Gagal Tolak H₀ (Tidak Signifikan)  \n",
      "23  8.405846e-01  Gagal Tolak H₀ (Tidak Signifikan)  \n",
      "24  5.114589e-02  Gagal Tolak H₀ (Tidak Signifikan)  \n",
      "25  3.667831e-01  Gagal Tolak H₀ (Tidak Signifikan)  \n",
      "26  7.395318e-01  Gagal Tolak H₀ (Tidak Signifikan)  \n",
      "27  7.618714e-01  Gagal Tolak H₀ (Tidak Signifikan)  \n",
      "28  3.037469e-02              Tolak H₀ (Signifikan)  \n",
      "29  4.520948e-01  Gagal Tolak H₀ (Tidak Signifikan)  \n",
      "30  4.394644e-01  Gagal Tolak H₀ (Tidak Signifikan)  \n",
      "31  1.564856e-02              Tolak H₀ (Signifikan)  \n",
      "32  7.870265e-01  Gagal Tolak H₀ (Tidak Signifikan)  \n",
      "33  5.927303e-03              Tolak H₀ (Signifikan)  \n",
      "34  4.775512e-03              Tolak H₀ (Signifikan)  \n",
      "35  1.038170e-01  Gagal Tolak H₀ (Tidak Signifikan)  \n",
      "36  1.001866e-01  Gagal Tolak H₀ (Tidak Signifikan)  \n",
      "37  1.402814e-01  Gagal Tolak H₀ (Tidak Signifikan)  \n",
      "38  2.879037e-01  Gagal Tolak H₀ (Tidak Signifikan)  \n"
     ]
    }
   ],
   "source": [
    "# 21. Tabel hasil uji t dengan keputusan tolak H₀ atau gagal tolak H₀\n",
    "decision = ['Tolak H₀ (Signifikan)' if p < 0.05 else 'Gagal Tolak H₀ (Tidak Signifikan)' for p in p_values]\n",
    "\n",
    "# Membuat DataFrame untuk hasil uji t\n",
    "summary_df = pd.DataFrame({\n",
    "    \"Feature\": ['Intercept'] + categorical_columns,  # Menambahkan 'Intercept' untuk kolom Intercept\n",
    "    \"Coef\": beta,\n",
    "    \"Std Err\": standard_errors,\n",
    "    \"t-value\": t_values,\n",
    "    \"p-value\": p_values,\n",
    "    \"Keputusan\": decision  # Menambahkan kolom keputusan\n",
    "})\n",
    "\n",
    "# Output hasil uji t\n",
    "print(\"\\nHasil Uji Hipotesis t:\")\n",
    "print(summary_df)"
   ]
  },
  {
   "cell_type": "code",
   "execution_count": null,
   "id": "77fdd36e-8551-4f15-af55-6699719c862b",
   "metadata": {},
   "outputs": [],
   "source": []
  }
 ],
 "metadata": {
  "kernelspec": {
   "display_name": "Python 3 (ipykernel)",
   "language": "python",
   "name": "python3"
  },
  "language_info": {
   "codemirror_mode": {
    "name": "ipython",
    "version": 3
   },
   "file_extension": ".py",
   "mimetype": "text/x-python",
   "name": "python",
   "nbconvert_exporter": "python",
   "pygments_lexer": "ipython3",
   "version": "3.11.5"
  }
 },
 "nbformat": 4,
 "nbformat_minor": 5
}
